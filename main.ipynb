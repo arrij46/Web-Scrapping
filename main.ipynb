{
 "cells": [
  {
   "cell_type": "markdown",
   "id": "37a6849a",
   "metadata": {},
   "source": [
    "##### Make a Request to a Website"
   ]
  },
  {
   "cell_type": "code",
   "execution_count": 27,
   "id": "8683a04e",
   "metadata": {},
   "outputs": [
    {
     "name": "stdout",
     "output_type": "stream",
     "text": [
      "Status code: 401\n",
      "Failed to fetch page\n"
     ]
    }
   ],
   "source": [
    "import requests\n",
    "\n",
    "url = \"https://www.reuters.com/\"\n",
    "response = requests.get(url)\n",
    "\n",
    "print(\"Status code:\", response.status_code)\n",
    "\n",
    "# Check status\n",
    "if response.status_code == 200:\n",
    "    print(\"Page fetched successfully\")\n",
    "else:\n",
    "    print(\"Failed to fetch page\")"
   ]
  },
  {
   "cell_type": "markdown",
   "id": "9050e515",
   "metadata": {},
   "source": [
    "##### Make a request to a website with a user agent to mimic a browser"
   ]
  },
  {
   "cell_type": "code",
   "execution_count": 28,
   "id": "54ea3f4a",
   "metadata": {},
   "outputs": [
    {
     "name": "stdout",
     "output_type": "stream",
     "text": [
      "Page fetched successfully\n"
     ]
    }
   ],
   "source": [
    "import requests\n",
    "from bs4 import BeautifulSoup\n",
    "\n",
    "url = \"https://www.reuters.com/\"\n",
    "\n",
    "headers = {\n",
    "    \"User-Agent\": \"Mozilla/5.0 (Windows NT 10.0; Win64; x64)\"\n",
    "                  \" AppleWebKit/537.36 (KHTML, like Gecko)\"\n",
    "                  \" Chrome/114.0.0.0 Safari/537.36\",\n",
    "    \"Accept-Language\": \"en-US,en;q=0.9\",\n",
    "    \"Referer\": \"https://www.google.com/\"\n",
    "}\n",
    "\n",
    "# Send the request\n",
    "response = requests.get(url, headers=headers)\n",
    "\n",
    "# Check if successful\n",
    "if response.status_code == 200:\n",
    "    print(\"Page fetched successfully\")\n",
    "else:\n",
    "    print(f\"Failed to fetch page. Status code: {response.status_code}\")\n"
   ]
  },
  {
   "cell_type": "markdown",
   "id": "4e111cde",
   "metadata": {},
   "source": [
    "##### Fetch the relevant feilds using beautiful soup"
   ]
  },
  {
   "cell_type": "markdown",
   "id": "26cd61ef",
   "metadata": {},
   "source": [
    "##### Headers"
   ]
  },
  {
   "cell_type": "code",
   "execution_count": 29,
   "id": "45095a30",
   "metadata": {},
   "outputs": [
    {
     "name": "stdout",
     "output_type": "stream",
     "text": [
      "1. Ukraine and Russia at War\n",
      "2. United States\n",
      "3. Retail & Consumer\n",
      "4. Markets\n",
      "5. Tariffs\n",
      "6. Middle East\n",
      "7. Sports\n",
      "8. Earnings\n",
      "9. Aviation\n",
      "10. South Korea\n"
     ]
    }
   ],
   "source": [
    "if response.status_code == 200:    \n",
    "    soup = BeautifulSoup(response.content, \"html.parser\")\n",
    "\n",
    "    # Example: Get top story headlines\n",
    "    headlines = soup.find_all(\"h2\")\n",
    "    for i, h in enumerate(headlines[:10], 1):\n",
    "        print(f\"{i}. {h.get_text(strip=True)}\")"
   ]
  },
  {
   "cell_type": "markdown",
   "id": "1d4db2c7",
   "metadata": {},
   "source": [
    "##### URLs"
   ]
  },
  {
   "cell_type": "code",
   "execution_count": 30,
   "id": "cb98d5d8",
   "metadata": {},
   "outputs": [
    {
     "name": "stdout",
     "output_type": "stream",
     "text": [
      "1. #main-content - Skip to main content\n",
      "2. /differentiator/ - Exclusive news, data and analytics for financial market professionalsLearn more aboutRefinitiv\n",
      "3. / - \n",
      "4. /world/ - World\n",
      "5. /world/ - Browse World\n",
      "6. /world/africa/ - Africa\n",
      "7. /world/americas/ - Americas\n",
      "8. /world/asia-pacific/ - Asia Pacific\n",
      "9. /world/china/ - China\n",
      "10. /world/europe/ - Europe\n"
     ]
    }
   ],
   "source": [
    "if response.status_code == 200:    \n",
    "    soup = BeautifulSoup(response.content, \"html.parser\")\n",
    "\n",
    "    urls = soup.find_all(\"a\", href=True)\n",
    "    for i, link in enumerate(urls[:10], 1):\n",
    "        print(f\"{i}. {link['href']} - {link.get_text(strip=True)}\")"
   ]
  },
  {
   "cell_type": "markdown",
   "id": "b297f778",
   "metadata": {},
   "source": [
    "##### Date"
   ]
  },
  {
   "cell_type": "code",
   "execution_count": 31,
   "id": "0ab727b0",
   "metadata": {},
   "outputs": [
    {
     "name": "stdout",
     "output_type": "stream",
     "text": [
      "1. 2025-07-17T05:12:24Z\n",
      "2. 2025-07-17T09:24:14Z\n",
      "3. 2025-07-17T11:55:52Z\n",
      "4. 2025-07-17T10:03:19Z\n",
      "5. 2025-07-16T21:45:49Z\n",
      "6. 2025-07-17T06:52:00Z\n",
      "7. 2025-07-17T03:11:19Z\n",
      "8. 2025-07-17T06:38:32Z\n",
      "9. 2025-07-17T07:48:13Z\n",
      "10. 2025-07-17T12:46:07Z\n"
     ]
    }
   ],
   "source": [
    "if response.status_code == 200:    \n",
    "    soup = BeautifulSoup(response.content, \"html.parser\")\n",
    "\n",
    "    dates = soup.find_all(\"time\")\n",
    "\n",
    "    for i, tag in enumerate(dates[:10], 1):\n",
    "        datetime_str = tag.get(\"datetime\")\n",
    "        if datetime_str:\n",
    "            print(f\"{i}. {datetime_str}\")\n",
    "        else:\n",
    "            print(f\"{i}. [No datetime found]\")\n"
   ]
  },
  {
   "cell_type": "markdown",
   "id": "cd6064ea",
   "metadata": {},
   "source": [
    "##### Description"
   ]
  },
  {
   "cell_type": "code",
   "execution_count": 32,
   "id": "9371691a",
   "metadata": {},
   "outputs": [
    {
     "name": "stdout",
     "output_type": "stream",
     "text": [
      "1. trading higher\n",
      "2. trading higher\n",
      "3. trading higher\n",
      "4. They're cheap, they're deadly and they're among the main reasons Ukraine believes it can hold out against advancing Russian forces this year and even beyond, according to a dozen Ukrainian commanders, officials and arms manufacturers involved in Kyiv's defence.\n",
      "5. Preparations are underway to quickly transfer additional Patriot air defence systems to Ukraine, NATO's top military commander Alexus Grynkewich said on Thursday, as the country suffers some of the heaviest Russian attacks of the war so far.\n",
      "6. Ukraine's parliament appointed the country's first new prime minister in five years on Thursday, part of a major cabinet overhaul aimed at revitalising wartime management as prospects for peace with Russia grow dim.\n",
      "7. Most Americans think President Donald Trump's administration is hiding information about accused sex-trafficker Jeffrey Epstein and give it poor marks on the issue after pledging to make public documents in the case, a Reuters/Ipsos poll found.\n",
      "8. Coca-Cola produced for the U.S. market is typically sweetened with corn syrup, while the company uses cane sugar in some other countries.\n",
      "9. The deal would have been Japan's largest ever foreign buyout.\n",
      "10. The United States is very close to a trade deal with India, while an agreement could possibly be reached with Europe as well, but it is too soon to say whether a deal can be agreed with Canada, President Donald Trump said in an interview aired on Real America's Voice.\n"
     ]
    }
   ],
   "source": [
    "if response.status_code == 200:    \n",
    "    soup = BeautifulSoup(response.content, \"html.parser\")\n",
    "\n",
    "    \n",
    "    descriptions = soup.find_all(\"p\")\n",
    "\n",
    "    for i, desc in enumerate(descriptions[:10], 1):\n",
    "        print(f\"{i}. {desc.get_text(strip=True)}\")\n",
    "\n"
   ]
  }
 ],
 "metadata": {
  "kernelspec": {
   "display_name": "Python 3",
   "language": "python",
   "name": "python3"
  },
  "language_info": {
   "codemirror_mode": {
    "name": "ipython",
    "version": 3
   },
   "file_extension": ".py",
   "mimetype": "text/x-python",
   "name": "python",
   "nbconvert_exporter": "python",
   "pygments_lexer": "ipython3",
   "version": "3.12.4"
  }
 },
 "nbformat": 4,
 "nbformat_minor": 5
}
